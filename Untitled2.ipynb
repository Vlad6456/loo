{
  "nbformat": 4,
  "nbformat_minor": 0,
  "metadata": {
    "colab": {
      "provenance": [],
      "authorship_tag": "ABX9TyOSX0kLOAeqXYcTQqjATSjm",
      "include_colab_link": true
    },
    "kernelspec": {
      "name": "python3",
      "display_name": "Python 3"
    },
    "language_info": {
      "name": "python"
    }
  },
  "cells": [
    {
      "cell_type": "markdown",
      "metadata": {
        "id": "view-in-github",
        "colab_type": "text"
      },
      "source": [
        "<a href=\"https://colab.research.google.com/github/Vlad6456/loo/blob/main/Untitled2.ipynb\" target=\"_parent\"><img src=\"https://colab.research.google.com/assets/colab-badge.svg\" alt=\"Open In Colab\"/></a>"
      ]
    },
    {
      "cell_type": "code",
      "execution_count": 1,
      "metadata": {
        "colab": {
          "base_uri": "https://localhost:8080/",
          "height": 106
        },
        "id": "1VVS9tz3Yxjd",
        "outputId": "e872d27a-5ff0-4201-8ca0-3362f92e4255"
      },
      "outputs": [
        {
          "output_type": "error",
          "ename": "SyntaxError",
          "evalue": "invalid syntax (<ipython-input-1-7e5c00321920>, line 1)",
          "traceback": [
            "\u001b[0;36m  File \u001b[0;32m\"<ipython-input-1-7e5c00321920>\"\u001b[0;36m, line \u001b[0;32m1\u001b[0m\n\u001b[0;31m    -- Запит для отримання даних про виконання KPI для конкретного співробітника за період\u001b[0m\n\u001b[0m             ^\u001b[0m\n\u001b[0;31mSyntaxError\u001b[0m\u001b[0;31m:\u001b[0m invalid syntax\n"
          ]
        }
      ],
      "source": [
        "-- Запит для отримання даних про виконання KPI для конкретного співробітника за період\n",
        "SELECT\n",
        "    g.goal_name,\n",
        "    k.kpi_name,\n",
        "    k.target_value,\n",
        "    kv.actual_value,\n",
        "    kv.entry_date,\n",
        "    (kv.actual_value / k.target_value) * 100 AS achievement_percentage\n",
        "FROM\n",
        "    Goals g\n",
        "JOIN\n",
        "    KPIs k ON g.goal_id = k.goal_id\n",
        "JOIN\n",
        "    KPI_Values kv ON k.kpi_id = kv.kpi_id\n",
        "WHERE\n",
        "    g.employee_id = [ID_Співробітника] AND\n",
        "    kv.entry_date BETWEEN '2024-01-01' AND '2024-12-31'\n",
        "ORDER BY\n",
        "    g.goal_name, kv.entry_date;"
      ]
    }
  ]
}